{
 "cells": [
  {
   "cell_type": "markdown",
   "id": "f956ad32-123e-4998-bbe6-8ec3f459236c",
   "metadata": {},
   "source": [
    "# Data Science Tools and Ecosystem"
   ]
  },
  {
   "cell_type": "markdown",
   "id": "9ea87118-edf7-4ce8-ae50-9a19276b6137",
   "metadata": {},
   "source": [
    "# Introduction\n",
    "\n",
    "In this notebook, Data Science Tools and Ecosystem are summarized.\n"
   ]
  },
  {
   "cell_type": "markdown",
   "id": "faecb67f-47bd-418b-a166-b3e71769922d",
   "metadata": {},
   "source": [
    "**Objectives:**  \n",
    "\n",
    "- List popular languages for Data Science  \n",
    "- Identify commonly used libraries in Data Science  \n",
    "- Explore open-source development tools for Data Science  \n",
    "- Perform basic arithmetic operations in Python  \n",
    "- Convert minutes to hours using Python expressions  \n"
   ]
  },
  {
   "cell_type": "markdown",
   "id": "99f3edf9-492b-4244-a935-691fbd1d684e",
   "metadata": {},
   "source": [
    "# Some of the popular languages that Data Scientists use are:\n",
    "\n",
    "1. Python  \n",
    "2. R  \n",
    "3. SQL  \n",
    "4. Julia  \n",
    "5. Scala  \n"
   ]
  },
  {
   "cell_type": "markdown",
   "id": "461e3112-0319-4be4-917c-ab5efd2b4121",
   "metadata": {},
   "source": [
    "# Some of the commonly used libraries used by Data Scientists include:\n",
    "\n",
    "1. NumPy  \n",
    "2. Pandas  \n",
    "3. Matplotlib  \n",
    "4. Scikit-learn  \n",
    "5. TensorFlow  \n",
    "6. PyTorch  \n"
   ]
  },
  {
   "cell_type": "markdown",
   "id": "2ec97d7d-7ae3-4e44-b084-a19e935a0805",
   "metadata": {},
   "source": [
    "# Data Science Tools\n",
    "\n",
    "| Data Science Tools |\n",
    "|--------------------|\n",
    "| Jupyter Notebook  |\n",
    "| RStudio           |\n",
    "| Apache Zeppelin   |\n"
   ]
  },
  {
   "cell_type": "markdown",
   "id": "e688a85a-d1f1-4297-9e37-14e1ad759a38",
   "metadata": {},
   "source": [
    "### Below are a few examples of evaluating arithmetic expressions in Python.\n",
    "\n",
    "- **Addition:** `3 + 5 = 8`  \n",
    "- **Subtraction:** `10 - 4 = 6`  \n",
    "- **Multiplication:** `6 * 7 = 42`  \n",
    "- **Division:** `20 / 5 = 4.0`\n",
    "- **Exponentiation:** `2 ** 3 = 8`  \n",
    "- **Modulo:** `10 % 3 = 1`\n"
   ]
  },
  {
   "cell_type": "code",
   "execution_count": 3,
   "id": "c069e7bd-8f0b-4e56-b0d6-23d93f0f3a1a",
   "metadata": {},
   "outputs": [
    {
     "data": {
      "text/plain": [
       "17"
      ]
     },
     "execution_count": 3,
     "metadata": {},
     "output_type": "execute_result"
    }
   ],
   "source": [
    "# This is a simple arithmetic expression to multiply then add integers\n",
    "(3 * 4) + 5\n"
   ]
  },
  {
   "cell_type": "code",
   "execution_count": 4,
   "id": "9ff7e4aa-b581-479e-a04b-5fb5dcac81bc",
   "metadata": {},
   "outputs": [
    {
     "data": {
      "text/plain": [
       "3.3333333333333335"
      ]
     },
     "execution_count": 4,
     "metadata": {},
     "output_type": "execute_result"
    }
   ],
   "source": [
    "# This will convert 200 minutes to hours by dividing by 60\n",
    "200 / 60\n"
   ]
  },
  {
   "cell_type": "markdown",
   "id": "3d650ea2-bc1a-4582-adc6-f918b6755896",
   "metadata": {},
   "source": [
    "## Author  \n",
    "Sachin"
   ]
  },
  {
   "cell_type": "code",
   "execution_count": null,
   "id": "5fefd1ef-e07e-4088-b7ab-a73f33e8321f",
   "metadata": {},
   "outputs": [],
   "source": []
  }
 ],
 "metadata": {
  "kernelspec": {
   "display_name": "Python 3 (ipykernel)",
   "language": "python",
   "name": "python3"
  },
  "language_info": {
   "codemirror_mode": {
    "name": "ipython",
    "version": 3
   },
   "file_extension": ".py",
   "mimetype": "text/x-python",
   "name": "python",
   "nbconvert_exporter": "python",
   "pygments_lexer": "ipython3",
   "version": "3.12.8"
  }
 },
 "nbformat": 4,
 "nbformat_minor": 5
}
